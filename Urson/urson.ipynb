{
 "cells": [
  {
   "cell_type": "code",
   "execution_count": 1,
   "metadata": {},
   "outputs": [
    {
     "ename": "IndentationError",
     "evalue": "unexpected indent (2362885210.py, line 2)",
     "output_type": "error",
     "traceback": [
      "\u001b[1;36m  Cell \u001b[1;32mIn[1], line 2\u001b[1;36m\u001b[0m\n\u001b[1;33m    restaurant_id,\u001b[0m\n\u001b[1;37m    ^\u001b[0m\n\u001b[1;31mIndentationError\u001b[0m\u001b[1;31m:\u001b[0m unexpected indent\n"
     ]
    }
   ],
   "source": [
    "SELECT \n",
    "    restaurant_id,\n",
    "    CASE\n",
    "        WHEN SUM(CASE WHEN mode = 'PICKUP' AND isavailable = TRUE THEN 1 ELSE 0 END) > 0 \n",
    "             AND SUM(CASE WHEN mode = 'Delivery' AND isavailable = TRUE THEN 1 ELSE 0 END) > 0 \n",
    "        THEN 'Both'\n",
    "        WHEN SUM(CASE WHEN mode = 'PICKUP' AND isavailable = TRUE THEN 1 ELSE 0 END) > 0 \n",
    "        THEN 'PICKUP Only'\n",
    "        WHEN SUM(CASE WHEN mode = 'Delivery' AND isavailable = TRUE THEN 1 ELSE 0 END) > 0 \n",
    "        THEN 'Delivery Only'\n",
    "        ELSE 'None'\n",
    "    END AS service_mode\n",
    "FROM \n",
    "    restaurant_to_supported_dining_modes\n",
    "GROUP BY \n",
    "    restaurant_id;\n"
   ]
  }
 ],
 "metadata": {
  "kernelspec": {
   "display_name": ".venv",
   "language": "python",
   "name": "python3"
  },
  "language_info": {
   "codemirror_mode": {
    "name": "ipython",
    "version": 3
   },
   "file_extension": ".py",
   "mimetype": "text/x-python",
   "name": "python",
   "nbconvert_exporter": "python",
   "pygments_lexer": "ipython3",
   "version": "3.13.0"
  }
 },
 "nbformat": 4,
 "nbformat_minor": 2
}
